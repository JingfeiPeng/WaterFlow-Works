{
 "cells": [
  {
   "cell_type": "code",
   "execution_count": 1,
   "metadata": {},
   "outputs": [],
   "source": [
    "import requests\n",
    "import json\n",
    "from requests.adapters import HTTPAdapter\n",
    "from requests.packages.urllib3.util.retry import Retry"
   ]
  },
  {
   "cell_type": "code",
   "execution_count": 2,
   "metadata": {},
   "outputs": [],
   "source": [
    "def g(url):\n",
    "    \n",
    "    with requests.Session() as s:\n",
    "        retries = Retry(total=10, backoff_factor=1, status_forcelist=[500, 502, 503, 504])\n",
    "\n",
    "        s.mount('http://', HTTPAdapter(max_retries=retries))\n",
    "        s.mount('https://', HTTPAdapter(max_retries=retries))\n",
    "\n",
    "        return s.get(url, timeout=10)"
   ]
  },
  {
   "cell_type": "code",
   "execution_count": 3,
   "metadata": {},
   "outputs": [],
   "source": [
    "sqlstr = lambda string: \"'\" + str(string).replace(\"'\", \"''\") + \"'\""
   ]
  },
  {
   "cell_type": "markdown",
   "metadata": {},
   "source": [
    "### Results"
   ]
  },
  {
   "cell_type": "code",
   "execution_count": 4,
   "metadata": {},
   "outputs": [],
   "source": [
    "## SQL create statements\n",
    "stmts_faculty = [] # done\n",
    "stmts_degree = []\n",
    "stmts_subject = [] # done\n",
    "stmts_course = [] # done\n",
    "stmts_courseGroup = []\n",
    "stmts_courseGroupMember = []\n",
    "stmts_prerequisite = []\n",
    "stmts_degreeRequirement = []\n",
    "stmts_term = [] # done\n",
    "stmts_courseOffering = [] # done"
   ]
  },
  {
   "cell_type": "code",
   "execution_count": 5,
   "metadata": {},
   "outputs": [],
   "source": [
    "## Entity Sets for Later Use\n",
    "set_faculty = set()\n",
    "set_subject = set()\n",
    "set_course = set()\n",
    "set_courseOffering = set()"
   ]
  },
  {
   "cell_type": "markdown",
   "metadata": {},
   "source": [
    "### Term"
   ]
  },
  {
   "cell_type": "code",
   "execution_count": 6,
   "metadata": {},
   "outputs": [],
   "source": [
    "## strings for terms\n",
    "terms = [str(100 + y) + str(t) for y in range (10, 21) for t in [1, 5, 9]]"
   ]
  },
  {
   "cell_type": "code",
   "execution_count": 7,
   "metadata": {},
   "outputs": [],
   "source": [
    "stmts_term = [f'INSERT INTO term (code) VALUES ({term});' for term in terms]"
   ]
  },
  {
   "cell_type": "markdown",
   "metadata": {},
   "source": [
    "### Faculty"
   ]
  },
  {
   "cell_type": "code",
   "execution_count": 8,
   "metadata": {},
   "outputs": [],
   "source": [
    "with open('faculty.json', 'r') as faculty_f:\n",
    "    faculties = json.load(faculty_f)"
   ]
  },
  {
   "cell_type": "code",
   "execution_count": 9,
   "metadata": {},
   "outputs": [],
   "source": [
    "set_faculty = set()\n",
    "stmts_faculty = []\n",
    "\n",
    "for faculty in faculties:\n",
    "    title = faculty['group_code']\n",
    "    short_name = faculty['group_short_name']\n",
    "    full_name = faculty['group_full_name']\n",
    "    \n",
    "    set_faculty.add(title)\n",
    "    stmts_faculty.append(\n",
    "        \"INSERT INTO faculty (title, shortName, fullName) VALUES (%s, %s, %s);\" % \n",
    "        (sqlstr(title), sqlstr(short_name), sqlstr(full_name))\n",
    "    )"
   ]
  },
  {
   "cell_type": "markdown",
   "metadata": {},
   "source": [
    "### Subject"
   ]
  },
  {
   "cell_type": "code",
   "execution_count": 10,
   "metadata": {
    "scrolled": true
   },
   "outputs": [],
   "source": [
    "with open('subject.json', 'r') as subject_f:\n",
    "  subjects = json.load(subject_f)"
   ]
  },
  {
   "cell_type": "code",
   "execution_count": 11,
   "metadata": {},
   "outputs": [],
   "source": [
    "set_subject = set()\n",
    "stmts_subject = []\n",
    "\n",
    "for subject in subjects:\n",
    "    title = subject['subject']\n",
    "    desc = subject['description']\n",
    "    faculty = subject['group']\n",
    "    \n",
    "    if faculty in set_faculty:\n",
    "        set_subject.add(title)\n",
    "        stmts_subject.append(\n",
    "            \"INSERT INTO subject (title, facultyTitle, description) VALUES (%s, %s, %s);\" % \n",
    "            (sqlstr(title), sqlstr(faculty), sqlstr(desc))\n",
    "        )"
   ]
  },
  {
   "cell_type": "markdown",
   "metadata": {},
   "source": [
    "### Courses"
   ]
  },
  {
   "cell_type": "markdown",
   "metadata": {},
   "source": [
    "#### You can import the courses from `course.txt` if the file exists."
   ]
  },
  {
   "cell_type": "code",
   "execution_count": 32,
   "metadata": {},
   "outputs": [],
   "source": [
    "set_course = set()\n",
    "with open('course.txt', 'r') as f:\n",
    "    for line in f:\n",
    "        set_course.add(line.strip())"
   ]
  },
  {
   "cell_type": "markdown",
   "metadata": {},
   "source": [
    "#### Alternatively, you can scrape the course data from the OpenAPI as well."
   ]
  },
  {
   "cell_type": "code",
   "execution_count": 12,
   "metadata": {},
   "outputs": [],
   "source": [
    "courses_r = g('https://api.uwaterloo.ca/v2/courses.json?key=e5c5ea41b7715202b2846b04b286f29d')\n",
    "courses = list(filter(lambda c: '`' not in c['catalog_number'], courses_r.json()['data'])) # there is a \"GER 744`\""
   ]
  },
  {
   "cell_type": "code",
   "execution_count": 13,
   "metadata": {
    "scrolled": true
   },
   "outputs": [
    {
     "name": "stdout",
     "output_type": "stream",
     "text": [
      "7448/7449 course(s) processed. Processing SYDE 263.\t\t\t\tk.\t\t\t\n",
      "done.\n"
     ]
    }
   ],
   "source": [
    "set_course = set()\n",
    "stmts_course = []\n",
    "\n",
    "l = len(courses)\n",
    "\n",
    "for i, c in enumerate(courses):\n",
    "    subject_title = c['subject']\n",
    "    catalog_number = c['catalog_number']\n",
    "    \n",
    "    course_code = subject_title + ' ' + catalog_number\n",
    "    \n",
    "    ## print the progress of processing\n",
    "    print('%s/%s course(s) processed. Processing %s.\\t\\t' % (i, l, course_code), end='\\r', flush=True)\n",
    "\n",
    "    course_detail_r = g(\n",
    "        'https://api.uwaterloo.ca/v2/courses/%s/%s.json?key=e5c5ea41b7715202b2846b04b286f29d' %\n",
    "        (subject_title, catalog_number)\n",
    "    ).json()\n",
    "\n",
    "    if 'data' in course_detail_r and course_detail_r['data'] and subject_title in set_subject:\n",
    "        course_detail = course_detail_r['data']\n",
    "\n",
    "        title = course_detail['title']\n",
    "        credit = course_detail['units']\n",
    "        desc = course_detail['description']\n",
    "        course_types = ', '.join(ins for ins in course_detail['instructions'])\n",
    "\n",
    "        set_course.add(course_code)\n",
    "        stmts_course.append(\n",
    "            \"INSERT INTO course (courseCode, title, credit, courseTypes, description, subjectTitle) VALUES (%s, %s, %s, %s, %s, %s);\" %\n",
    "            (sqlstr(course_code),\n",
    "             sqlstr(title),\n",
    "             credit,\n",
    "             sqlstr(course_types),\n",
    "             sqlstr(desc),\n",
    "             sqlstr(subject_title))\n",
    "        )\n",
    "        \n",
    "print('\\ndone.')"
   ]
  },
  {
   "cell_type": "markdown",
   "metadata": {},
   "source": [
    "### Course Offerings"
   ]
  },
  {
   "cell_type": "code",
   "execution_count": 35,
   "metadata": {
    "scrolled": true
   },
   "outputs": [
    {
     "name": "stdout",
     "output_type": "stream",
     "text": [
      "32/33 terms out of 206/207 subject(s) processed. Processing term=1209, subject=GENE. So far 90951 offering(s) recorded.\t\t\t\t\n",
      "done.\n"
     ]
    }
   ],
   "source": [
    "set_courseOffering = set()\n",
    "stmts_courseOffering = []\n",
    "\n",
    "l = len(set_subject)\n",
    "l_terms = len(terms)\n",
    "\n",
    "for i, subject_title in enumerate(set_subject):\n",
    "    \n",
    "    for j, term in enumerate(terms):\n",
    "        \n",
    "        ## print the progress of processing\n",
    "        print('%s/%s terms out of %s/%s subject(s) processed. Processing term=%s, subject=%s. So far %s offering(s) recorded.\\t\\t' %\n",
    "              (j, l_terms, i, l, term, subject_title, len(stmts_courseOffering)), end='\\r', flush=True)\n",
    "            \n",
    "        offerings_r = g(\n",
    "            'https://api.uwaterloo.ca/v2/terms/%s/%s/schedule.json?key=e5c5ea41b7715202b2846b04b286f29d' %\n",
    "            (term, subject_title)\n",
    "        ).json()\n",
    "                \n",
    "        if 'data' in offerings_r and offerings_r['data']:\n",
    "            offerings = offerings_r['data']\n",
    "\n",
    "            for offering in offerings:\n",
    "                catalog_number = offering['catalog_number']\n",
    "                course_code = subject_title + ' ' + catalog_number\n",
    "\n",
    "                if course_code in set_course:\n",
    "                    args = []\n",
    "                    vals = []\n",
    "\n",
    "                    args.append('courseCode')\n",
    "                    vals.append(sqlstr(course_code))\n",
    "\n",
    "                    args.append('termCode')\n",
    "                    vals.append(term)\n",
    "\n",
    "                    section = offering['section'].split(' ')\n",
    "\n",
    "                    courseType = section[0]\n",
    "                    component = section[1]\n",
    "                    \n",
    "                    if (course_code, term, component) not in set_courseOffering:\n",
    "                        args.append('courseType')\n",
    "                        vals.append(sqlstr(courseType))\n",
    "\n",
    "                        args.append('component')\n",
    "                        vals.append(component)\n",
    "\n",
    "                        if offering['related_component_1']:\n",
    "                            args.append('relatedComponent1')\n",
    "                            vals.append(str(offering['related_component_1']))\n",
    "\n",
    "                        if offering['related_component_2']:\n",
    "                            args.append('relatedComponent2')\n",
    "                            vals.append(str(offering['related_component_2']))\n",
    "\n",
    "                        enrlCap = offering['enrollment_capacity']\n",
    "                        enrlTot = offering['enrollment_total']\n",
    "\n",
    "                        args.append('enrlCap')\n",
    "                        vals.append(str(enrlCap))\n",
    "\n",
    "                        args.append('enrlTot')\n",
    "                        vals.append(str(enrlTot))\n",
    "\n",
    "                        classes = offering['classes']\n",
    "                        if classes:\n",
    "                            cls = classes[0]\n",
    "\n",
    "                            instructors = cls['instructors']\n",
    "                            if instructors:\n",
    "                                prof = instructors[0].split(',')\n",
    "\n",
    "                                if len(prof) > 1:\n",
    "                                    args.append('profFirstName')\n",
    "                                    vals.append(sqlstr(prof[1]))\n",
    "\n",
    "                                args.append('profLastName')\n",
    "                                vals.append(sqlstr(prof[0]))\n",
    "\n",
    "                            clsDate = cls['date']\n",
    "                            if clsDate:\n",
    "                                if clsDate['start_time']:\n",
    "                                    args.append('classStartTime')\n",
    "                                    vals.append(sqlstr(clsDate['start_time']))\n",
    "\n",
    "                                if clsDate['end_time']:\n",
    "                                    args.append('classEndTime')\n",
    "                                    vals.append(sqlstr(clsDate['end_time']))\n",
    "\n",
    "                                if clsDate['weekdays']:\n",
    "                                    args.append('classWeekdays')\n",
    "                                    vals.append(sqlstr(clsDate['weekdays']))\n",
    "\n",
    "                            loc = cls['location']\n",
    "                            if loc:\n",
    "                                if loc['building']:\n",
    "                                    args.append('classBuilding')\n",
    "                                    vals.append(sqlstr(loc['building']))\n",
    "\n",
    "                                if loc['room']:\n",
    "                                    args.append('classRoom')\n",
    "                                    vals.append(sqlstr(loc['room']))\n",
    "\n",
    "                        set_courseOffering.add((course_code, term, component))\n",
    "                        stmts_courseOffering.append(\n",
    "                            f\"INSERT INTO courseOffering ({', '.join(args)}) VALUES ({', '.join(vals)});\"\n",
    "                        )\n",
    "                    \n",
    "print('\\ndone.')"
   ]
  },
  {
   "cell_type": "markdown",
   "metadata": {},
   "source": [
    "### Output to Files"
   ]
  },
  {
   "cell_type": "code",
   "execution_count": 20,
   "metadata": {},
   "outputs": [],
   "source": [
    "with open('insert_1_faculty.sql', 'w+') as f:\n",
    "    for line in stmts_faculty:\n",
    "        f.write(line + '\\n')"
   ]
  },
  {
   "cell_type": "code",
   "execution_count": 21,
   "metadata": {},
   "outputs": [],
   "source": [
    "with open('insert_2_subject.sql', 'w+') as f:\n",
    "    for line in stmts_subject:\n",
    "        f.write(line + '\\n')"
   ]
  },
  {
   "cell_type": "code",
   "execution_count": 22,
   "metadata": {},
   "outputs": [],
   "source": [
    "with open('insert_3_course.sql', 'w+') as f:\n",
    "    for line in stmts_course:\n",
    "        f.write(line + '\\n')"
   ]
  },
  {
   "cell_type": "code",
   "execution_count": 23,
   "metadata": {},
   "outputs": [],
   "source": [
    "with open('insert_4_term.sql', 'w+') as f:\n",
    "    for line in stmts_term:\n",
    "        f.write(line + '\\n')"
   ]
  },
  {
   "cell_type": "code",
   "execution_count": 36,
   "metadata": {},
   "outputs": [],
   "source": [
    "with open('insert_5_courseOffering.sql', 'w+') as f:\n",
    "    for line in stmts_courseOffering:\n",
    "        f.write(line + '\\n')"
   ]
  },
  {
   "cell_type": "markdown",
   "metadata": {},
   "source": [
    "### Export Course.txt"
   ]
  },
  {
   "cell_type": "code",
   "execution_count": 24,
   "metadata": {},
   "outputs": [],
   "source": [
    "with open('course.txt', 'w+') as f:\n",
    "    for line in set_course:\n",
    "        f.write(line + '\\n')"
   ]
  }
 ],
 "metadata": {
  "kernelspec": {
   "display_name": "Python 3",
   "language": "python",
   "name": "python3"
  },
  "language_info": {
   "codemirror_mode": {
    "name": "ipython",
    "version": 3
   },
   "file_extension": ".py",
   "mimetype": "text/x-python",
   "name": "python",
   "nbconvert_exporter": "python",
   "pygments_lexer": "ipython3",
   "version": "3.7.6"
  }
 },
 "nbformat": 4,
 "nbformat_minor": 2
}
